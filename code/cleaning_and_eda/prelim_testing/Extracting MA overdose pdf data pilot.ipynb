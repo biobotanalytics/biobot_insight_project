{
 "cells": [
  {
   "cell_type": "code",
   "execution_count": 1,
   "metadata": {},
   "outputs": [],
   "source": [
    "import PyPDF2"
   ]
  },
  {
   "cell_type": "code",
   "execution_count": 3,
   "metadata": {},
   "outputs": [
    {
     "data": {
      "text/plain": [
       "20"
      ]
     },
     "execution_count": 3,
     "metadata": {},
     "output_type": "execute_result"
    }
   ],
   "source": [
    "pdfFileObj = open('../../raw_data/Opioid-related-Overdose-Deaths-by-City-Town-August-2019.pdf', 'rb')\n",
    "pdfReader = PyPDF2.PdfFileReader(pdfFileObj)\n",
    "pdfReader.numPages\n"
   ]
  },
  {
   "cell_type": "code",
   "execution_count": 4,
   "metadata": {},
   "outputs": [
    {
     "data": {
      "text/plain": [
       "' \\n6\\n \\n \\nMassachusetts Department of \\nPublic Health\\n \\n \\nPOST\\nED: \\nAUGUST 2019\\n \\n      \\n \\n \\n \\n \\n \\n \\n \\n \\nNote to Readers:\\n \\nBeginning with the May 2018 report, DPH is including two city/town ta\\nbles.  As previously published, \\nTable 1\\n \\ncontains\\n \\ncounts of opioid\\n-\\nrelated overdose deaths in\\n \\nthe city/town of residence \\nfor \\nthe decedent\\ns among MA \\nresidents\\n. \\nTable 2 \\ncontains\\n \\ncounts of opioid\\n-\\nrelated overdose deaths in\\n \\nthe city/town of \\nthe death occurrence. \\nThe \\ninformation presented in Table 2 \\nis new and has not been previously reported. The counts in Table 2 are different \\nfrom Table 1 because they include counts based on location of death versus location of the decedent\\n\\ns residence \\n(Table 1). \\nMassachusetts residents who died in Massachusetts ar\\ne included in both tables. Massachusetts \\nresidents \\nwho died outside of Massachusetts are included in \\nthe \\n\\n \\n\\nMassachusetts\\n\\n. \\nNon\\n-\\nMassachusetts residents who died in Massachusetts are \\nnot\\n \\n\\n \\ntable\\n \\n(Table 1).\\n \\n \\nTable 1. \\nNumber of confirmed opioid\\n-\\nrelated overdose deaths \\nfor all intents \\nby city/town of residence for the \\ndecedent\\n, \\namong MA residents\\n, 201\\n4\\n-\\n201\\n8\\n.\\n \\nFor 2017\\n \\nand 2018\\n, additional\\n \\ncases are still being confirmed by the \\nOffice of the Chief Medical Examiner. This report will be updated quarterly and all new confirmed cases will be \\nincluded in the \\ntable\\n \\nbelow with newly confirmed cases. \\n \\n \\nCity/Town\\n \\nof Residence\\n \\nYear of Death\\n \\n201\\n4\\n \\n201\\n5\\n \\n201\\n6\\n \\n201\\n7\\n \\n201\\n8\\n \\nAbington\\n \\n2\\n \\n6\\n \\n2\\n \\n4\\n \\n11\\n \\nActon\\n \\n3\\n \\n4\\n \\n7\\n \\n1\\n \\n4\\n \\nAcushnet\\n \\n1\\n \\n4\\n \\n4\\n \\n7\\n \\n2\\n \\nAdams\\n \\n2\\n \\n3\\n \\n1\\n \\n0\\n \\n7\\n \\nAgawam\\n \\n3\\n \\n5\\n \\n4\\n \\n7\\n \\n12\\n \\nAlford\\n \\n0\\n \\n0\\n \\n0\\n \\n0\\n \\n0\\n \\nAmesbury\\n \\n1\\n \\n7\\n \\n8\\n \\n10\\n \\n9\\n \\nAmherst\\n \\n2\\n \\n1\\n \\n2\\n \\n3\\n \\n2\\n \\nAndover\\n \\n6\\n \\n6\\n \\n3\\n \\n2\\n \\n2\\n \\nAquinnah\\n \\n1\\n \\n1\\n \\n0\\n \\n0\\n \\n0\\n \\nArlington\\n \\n5\\n \\n6\\n \\n6\\n \\n3\\n \\n3\\n \\nAshburnham\\n \\n1\\n \\n1\\n \\n2\\n \\n0\\n \\n1\\n \\nAshby\\n \\n0\\n \\n0\\n \\n0\\n \\n0\\n \\n0\\n \\nAshfield\\n \\n0\\n \\n1\\n \\n0\\n \\n0\\n \\n1\\n \\nAshland\\n \\n1\\n \\n4\\n \\n4\\n \\n4\\n \\n2\\n \\nAthol\\n \\n2\\n \\n3\\n \\n3\\n \\n6\\n \\n6\\n \\nAttleboro\\n \\n9\\n \\n10\\n \\n18\\n \\n26\\n \\n11\\n \\nAuburn\\n \\n0\\n \\n3\\n \\n2\\n \\n3\\n \\n6\\n \\nAvon\\n \\n2\\n \\n3\\n \\n3\\n \\n2\\n \\n2\\n \\nAyer\\n \\n1\\n \\n1\\n \\n7\\n \\n1\\n \\n2\\n \\nBarnstable\\n \\n11\\n \\n13\\n \\n21\\n \\n13\\n \\n17\\n \\nBarre\\n \\n0\\n \\n3\\n \\n0\\n \\n0\\n \\n3\\n \\nNumber of\\n \\nOpioid\\n-\\nRelated Overdose Deaths, \\n \\nAll Intents by City/Town \\n \\n2014\\n-\\n2018\\n \\n'"
      ]
     },
     "execution_count": 4,
     "metadata": {},
     "output_type": "execute_result"
    }
   ],
   "source": [
    "pageObj = pdfReader.getPage(0)\n",
    "pageObj.extractText()"
   ]
  }
 ],
 "metadata": {
  "kernelspec": {
   "display_name": "Python 3",
   "language": "python",
   "name": "python3"
  },
  "language_info": {
   "codemirror_mode": {
    "name": "ipython",
    "version": 3
   },
   "file_extension": ".py",
   "mimetype": "text/x-python",
   "name": "python",
   "nbconvert_exporter": "python",
   "pygments_lexer": "ipython3",
   "version": "3.6.8"
  }
 },
 "nbformat": 4,
 "nbformat_minor": 2
}
